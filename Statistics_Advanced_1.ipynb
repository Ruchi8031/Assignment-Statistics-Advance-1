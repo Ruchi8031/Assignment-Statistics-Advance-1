{
  "nbformat": 4,
  "nbformat_minor": 0,
  "metadata": {
    "colab": {
      "provenance": []
    },
    "kernelspec": {
      "name": "python3",
      "display_name": "Python 3"
    },
    "language_info": {
      "name": "python"
    }
  },
  "cells": [
    {
      "cell_type": "markdown",
      "source": [
        "Assignment Code: DA-AG-006\n",
        "Statistics Advanced - 1| Assignment"
      ],
      "metadata": {
        "id": "xyVXDp1pm7U1"
      }
    },
    {
      "cell_type": "markdown",
      "source": [
        "1.What is a random variable in probability theory?\n",
        "\n",
        "  - In probability theory, a random variable is a variable whose possible values are numerical outcomes of a random phenomenon.\n",
        "  - Formally: A random variable is a function that assigns a real number to each outcome in the sample space of a random experiment.\n",
        "\n",
        "  - Types of Random Variables:-\n",
        "  - a) Discrete Random Variable\n",
        "  - b) Continuous Random Variable\n"
      ],
      "metadata": {
        "id": "Fs8ShdE3gjY0"
      }
    },
    {
      "cell_type": "markdown",
      "source": [
        "2: What are the types of random variables?\n",
        "  - A random variable is a numerical description of the outcome of a random process. There are two main types: discrete random variables, which take countable values (like 0,1,2,...), and continuous random variables, which take any value in an interval (like real numbers). Discrete examples include the number of heads in coin tosses; continuous examples include height or time. Some problems use mixed or vector-valued random variables combining types.\n"
      ],
      "metadata": {
        "id": "KXts77MChHVP"
      }
    },
    {
      "cell_type": "markdown",
      "source": [
        "3: Explain the difference between discrete and continuous distributions.\n",
        "  - Discrete distributions assign probability to individual, countable outcomes and are described by a probability mass function (PMF).\n",
        "  - Continuous distributions assign probability over intervals, not points, and are described by a probability density function (PDF) whose integral over an interval gives probability. For discrete variables you sum probabilities; for continuous you integrate densities. The choice depends on whether outcomes are countable or uncountable."
      ],
      "metadata": {
        "id": "6sCOpzIViLi2"
      }
    },
    {
      "cell_type": "markdown",
      "source": [
        "4: What is a binomial distribution, and how is it used in probability?\n",
        "  - The binomial distribution models the number of successes in a fixed number of independent Bernoulli trials with the same success probability p. Its PMF is P(X=k) = C(n,k) p^k (1−p)^(n−k) for k = 0..n. It’s used for problems like counting successes (e.g., defective items, yes/no responses) when trials are independent and identical. Key parameters are n (trials) and p (success probability)."
      ],
      "metadata": {
        "id": "AMCxXZubibEh"
      }
    },
    {
      "cell_type": "markdown",
      "source": [
        "5: What is the standard normal distribution, and why is it important?\n",
        "  - The standard normal distribution is a continuous normal distribution with mean 0 and standard deviation 1, denoted N(0,1).\n",
        "    - It is important because any normal distribution can be transformed to the standard normal by standardization (z = (x − μ)/σ), enabling universal z-tables and probability calculations. Many statistical methods rely on normality and the convenience of standard normal probabilities."
      ],
      "metadata": {
        "id": "HlbzvAbTifJ9"
      }
    },
    {
      "cell_type": "markdown",
      "source": [
        "6: What is the Central Limit Theorem (CLT), and why is it critical in statistics?\n",
        "  - The CLT states that the sampling distribution of the sample mean (or sum) approaches a normal distribution as sample size increases, regardless of the population’s shape, provided observations are independent and identically distributed with finite variance. This lets us use normal-based inference (confidence intervals, hypothesis tests) even for non-normal populations when n is reasonably large. CLT is the foundation for many inferential techniques."
      ],
      "metadata": {
        "id": "OU7O_RdCikYT"
      }
    },
    {
      "cell_type": "markdown",
      "source": [
        "7: What is the significance of confidence intervals in statistical analysis?\n",
        "  - A confidence interval provides a range of plausible values for an unknown population parameter (such as a mean) computed from sample data, along with a confidence level (e.g., 95%). It quantifies uncertainty: a 95% CI means that, under repeated sampling, about 95% of such intervals would contain the true parameter. Confidence intervals are preferred to single-point estimates because they show both estimate and precision. They help decision-making by indicating how precise or uncertain an estimate is."
      ],
      "metadata": {
        "id": "HVZdulPbip3U"
      }
    },
    {
      "cell_type": "markdown",
      "source": [
        "8: What is the concept of expected value in a probability distribution?\n",
        "  \n",
        "  - The expected value (also called the mean) of a random variable is the long-run average value it would take if an experiment is repeated many times. It provides a measure of the “center” or “typical” value of a probability distribution.\n",
        "\n",
        "  - Interpretation:-Expected value is not necessarily a value the random variable can actually take.It represents the average outcome in the long run.\n",
        "\n",
        "  - Significance:-\n",
        "\n",
        "  - Decision Making:Used in games of chance, insurance, and finance to calculate average expected payoff.\n",
        "\n",
        "  - Measure of Center:Helps summarize a probability distribution by a single representative value.\n",
        "\n",
        "  - Foundation for Variance and Other Moments:Expected value is used in calculating variance, standard deviation, and higher moments."
      ],
      "metadata": {
        "id": "KIH6NJ48jIKV"
      }
    },
    {
      "cell_type": "markdown",
      "source": [
        "9:  Write a Python program to generate 1000 random numbers from a normal\n",
        "distribution with mean = 50 and standard deviation = 5. Compute its mean and standard\n",
        "deviation using NumPy, and draw a histogram to visualize the distribution.\n",
        "\n",
        "\n",
        "  - Example output (numbers will vary slightly by seed):\n",
        "  - Sample mean ≈ 49.77\n",
        "  - Sample standard deviation ≈ 4.94\n",
        "  - (Plus the histogram showing an approximately bell-shaped curve centered near 50.)"
      ],
      "metadata": {
        "id": "NALGmEELjJeo"
      }
    },
    {
      "cell_type": "code",
      "source": [
        "# Question 9: generate data, compute mean & std, and histogram\n",
        "import numpy as np\n",
        "import matplotlib.pyplot as plt\n",
        "\n",
        "np.random.seed(0)\n",
        "data = np.random.normal(loc=50, scale=5, size=1000)\n",
        "\n",
        "print(\"Sample mean:\", np.mean(data))\n",
        "print(\"Sample std (ddof=1):\", np.std(data, ddof=1))\n",
        "\n",
        "plt.hist(data, bins=30)\n",
        "plt.title(\"Histogram of 1000 samples from Normal(50,5)\")\n",
        "plt.xlabel(\"Value\")\n",
        "plt.ylabel(\"Frequency\")\n",
        "plt.show()\n"
      ],
      "metadata": {
        "colab": {
          "base_uri": "https://localhost:8080/",
          "height": 507
        },
        "id": "acuMvhvqj-Xh",
        "outputId": "2c08e050-4ae2-4656-bf62-1e9dd4a2c400"
      },
      "execution_count": 1,
      "outputs": [
        {
          "output_type": "stream",
          "name": "stdout",
          "text": [
            "Sample mean: 49.77371646254902\n",
            "Sample std (ddof=1): 4.937635228472564\n"
          ]
        },
        {
          "output_type": "display_data",
          "data": {
            "text/plain": [
              "<Figure size 640x480 with 1 Axes>"
            ],
            "image/png": "[encoded data removed]"
          },
          "metadata": {}
        }
      ]
    },
    {
      "cell_type": "markdown",
      "source": [
        "10: You are working as a data analyst for a retail company. The company has\n",
        "collected daily sales data for 2 years and wants you to identify the overall sales trend.\n",
        "daily_sales = [220, 245, 210, 265, 230, 250, 260, 275, 240, 255,\n",
        "235, 260, 245, 250, 225, 270, 265, 255, 250, 260]\n",
        "● Explain how you would apply the Central Limit Theorem to estimate the average sales\n",
        "with a 95% confidence interval.\n",
        "● Write the Python code to compute the mean sales and its confidence interval.\n",
        "\n",
        "  - Step 1: Applying CLT to Estimate Average Sales\n",
        "\n",
        "  - Problem Setup:\n",
        "\n",
        "  - We have daily sales data (daily_sales) for 20 days (for simplicity, assume it’s a representative sample).\n",
        "\n",
        "  - The company wants to estimate the average daily sales for the population (all days).\n",
        "\n",
        "  - Central Limit Theorem Application:\n",
        "\n",
        "  - CLT states that the sampling distribution of the sample mean is approximately normal for sufficiently large sample sizes. Confidence Interval (CI):\n",
        "\n",
        "  - For a 95% confidence interval, we use the Z-value ≈ 1.96 (for large n)"
      ],
      "metadata": {
        "id": "M_x2QIGPjJbz"
      }
    },
    {
      "cell_type": "code",
      "source": [
        "#Step 2: Python Code to Compute Mean and 95% CI\n",
        "\n",
        "import numpy as np\n",
        "from scipy import stats\n",
        "\n",
        "# Daily sales data\n",
        "daily_sales = [220, 245, 210, 265, 230, 250, 260, 275, 240, 255,\n",
        "               235, 260, 245, 250, 225, 270, 265, 255, 250, 260]\n",
        "\n",
        "# Convert to NumPy array\n",
        "data = np.array(daily_sales)\n",
        "\n",
        "# Sample statistics\n",
        "n = len(data)\n",
        "mean_sales = np.mean(data)\n",
        "std_sales = np.std(data, ddof=1)  # Sample standard deviation\n",
        "\n",
        "# Standard error\n",
        "se = std_sales / np.sqrt(n)\n",
        "\n",
        "# 95% confidence interval using t-distribution\n",
        "confidence_level = 0.95\n",
        "t_value = stats.t.ppf((1 + confidence_level) / 2, df=n-1)\n",
        "margin_of_error = t_value * se\n",
        "\n",
        "ci_lower = mean_sales - margin_of_error\n",
        "ci_upper = mean_sales + margin_of_error\n",
        "\n",
        "print(f\"Sample Mean Sales: {mean_sales:.2f}\")\n",
        "print(f\"95% Confidence Interval: ({ci_lower:.2f}, {ci_upper:.2f})\")\n"
      ],
      "metadata": {
        "colab": {
          "base_uri": "https://localhost:8080/"
        },
        "id": "2d2TStt-mM-S",
        "outputId": "81f30d3c-12a3-411e-b8e9-2719532feafb"
      },
      "execution_count": 2,
      "outputs": [
        {
          "output_type": "stream",
          "name": "stdout",
          "text": [
            "Sample Mean Sales: 248.25\n",
            "95% Confidence Interval: (240.17, 256.33)\n"
          ]
        }
      ]
    }
  ]
}